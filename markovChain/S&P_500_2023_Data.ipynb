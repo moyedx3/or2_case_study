{
  "cells": [
    {
      "cell_type": "code",
      "execution_count": 2,
      "metadata": {
        "colab": {
          "base_uri": "https://localhost:8080/"
        },
        "id": "kGOEhJrYXAk8",
        "outputId": "9a9b36e2-e747-4c5b-9a14-fa37a1d57a1e"
      },
      "outputs": [
        {
          "name": "stdout",
          "output_type": "stream",
          "text": [
            "Transition Matrix:\n",
            "[[0.11111111 0.33333333 0.47222222 0.08333333]\n",
            " [0.16666667 0.39215686 0.3627451  0.07843137]\n",
            " [0.12048193 0.43373494 0.26506024 0.18072289]\n",
            " [0.17857143 0.5        0.25       0.07142857]]\n"
          ]
        }
      ],
      "source": [
        "import pandas as pd\n",
        "import numpy as np\n",
        "\n",
        "# Read the CSV file.\n",
        "df = pd.read_csv(\"./S&P 500 2023 Data.csv\")\n",
        "\n",
        "# Categorize states based on the \"Change %\" column.\n",
        "def categorize_change(change_percent_str):\n",
        "    change_percent = float(change_percent_str.replace('%', ''))\n",
        "    if change_percent > 1:\n",
        "        return 1  # State 1: Going Up High\n",
        "    elif 0 <= change_percent <= 1:\n",
        "        return 2  # State 2: Going Up Low\n",
        "    elif -1 <= change_percent < 0:\n",
        "        return 3  # State 3: Going Down Low\n",
        "    else:\n",
        "        return 4  # State 4: Going Down High\n",
        "\n",
        "# Convert \"Change %\" of each row to state.\n",
        "df['state'] = df['Change %'].apply(categorize_change)\n",
        "\n",
        "# Initialize the transition probability matrix.\n",
        "transition_matrix = np.zeros((4, 4))\n",
        "\n",
        "# Count state transitions.\n",
        "for i in range(1, len(df)):\n",
        "    from_state = df['state'][i - 1] - 1\n",
        "    to_state = df['state'][i] - 1\n",
        "    transition_matrix[from_state][to_state] += 1\n",
        "\n",
        "# Convert to transition probability matrix.\n",
        "transition_matrix = transition_matrix / transition_matrix.sum(axis=1, keepdims=True)\n",
        "\n",
        "print(\"Transition Matrix:\")\n",
        "print(transition_matrix)\n"
      ]
    }
  ],
  "metadata": {
    "colab": {
      "provenance": []
    },
    "kernelspec": {
      "display_name": "Python 3",
      "name": "python3"
    },
    "language_info": {
      "name": "python"
    }
  },
  "nbformat": 4,
  "nbformat_minor": 0
}
