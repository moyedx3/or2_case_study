{
 "cells": [
  {
   "cell_type": "code",
   "execution_count": 1,
   "metadata": {
    "ExecuteTime": {
     "end_time": "2022-06-02T02:30:37.970878Z",
     "start_time": "2022-06-02T02:30:34.740917Z"
    }
   },
   "outputs": [
    {
     "name": "stderr",
     "output_type": "stream",
     "text": [
      "/home/minwook0008/bin/anaconda3/envs/MLAp/lib/python3.9/site-packages/tqdm/auto.py:21: TqdmWarning: IProgress not found. Please update jupyter and ipywidgets. See https://ipywidgets.readthedocs.io/en/stable/user_install.html\n",
      "  from .autonotebook import tqdm as notebook_tqdm\n",
      "/home/minwook0008/bin/anaconda3/envs/MLAp/lib/python3.9/site-packages/transformers/utils/hub.py:124: FutureWarning: Using `TRANSFORMERS_CACHE` is deprecated and will be removed in v5 of Transformers. Use `HF_HOME` instead.\n",
      "  warnings.warn(\n"
     ]
    }
   ],
   "source": [
    "import numpy as np\n",
    "import pandas as pd \n",
    "from transformers import BertTokenizer, Trainer, BertForSequenceClassification, TrainingArguments\n",
    "from datasets import Dataset\n",
    "import os\n",
    "os.environ[\"CUDA_VISIBLE_DEVICES\"] = \"1\"\n",
    "import torch\n",
    "from sklearn.model_selection import train_test_split\n",
    "from sklearn.metrics import accuracy_score"
   ]
  },
  {
   "cell_type": "code",
   "execution_count": 2,
   "metadata": {
    "ExecuteTime": {
     "end_time": "2022-06-02T02:45:07.491364Z",
     "start_time": "2022-06-02T02:45:07.482746Z"
    }
   },
   "outputs": [
    {
     "data": {
      "text/plain": [
       "('2.0.1+cu117', '4.40.0')"
      ]
     },
     "execution_count": 2,
     "metadata": {},
     "output_type": "execute_result"
    }
   ],
   "source": [
    "# tested in transformers==4.18.0, pytorch==1.7.1 \n",
    "import torch\n",
    "import transformers\n",
    "torch.__version__, transformers.__version__"
   ]
  },
  {
   "cell_type": "code",
   "execution_count": 3,
   "metadata": {},
   "outputs": [
    {
     "data": {
      "text/plain": [
       "device(type='cuda')"
      ]
     },
     "execution_count": 3,
     "metadata": {},
     "output_type": "execute_result"
    }
   ],
   "source": [
    "device = torch.device(\"cuda\")\n",
    "device"
   ]
  },
  {
   "cell_type": "code",
   "execution_count": 4,
   "metadata": {
    "ExecuteTime": {
     "end_time": "2022-06-02T02:44:18.286115Z",
     "start_time": "2022-06-02T02:44:18.222850Z"
    }
   },
   "outputs": [
    {
     "data": {
      "text/plain": [
       "True"
      ]
     },
     "execution_count": 4,
     "metadata": {},
     "output_type": "execute_result"
    }
   ],
   "source": [
    "torch.cuda.is_available()"
   ]
  },
  {
   "cell_type": "code",
   "execution_count": 5,
   "metadata": {
    "ExecuteTime": {
     "end_time": "2022-06-02T02:54:06.431016Z",
     "start_time": "2022-06-02T02:54:06.391735Z"
    },
    "scrolled": true
   },
   "outputs": [
    {
     "data": {
      "text/html": [
       "<div>\n",
       "<style scoped>\n",
       "    .dataframe tbody tr th:only-of-type {\n",
       "        vertical-align: middle;\n",
       "    }\n",
       "\n",
       "    .dataframe tbody tr th {\n",
       "        vertical-align: top;\n",
       "    }\n",
       "\n",
       "    .dataframe thead th {\n",
       "        text-align: right;\n",
       "    }\n",
       "</style>\n",
       "<table border=\"1\" class=\"dataframe\">\n",
       "  <thead>\n",
       "    <tr style=\"text-align: right;\">\n",
       "      <th></th>\n",
       "      <th>id</th>\n",
       "      <th>date</th>\n",
       "      <th>ticker</th>\n",
       "      <th>emo_label</th>\n",
       "      <th>senti_label</th>\n",
       "      <th>original</th>\n",
       "      <th>processed</th>\n",
       "    </tr>\n",
       "  </thead>\n",
       "  <tbody>\n",
       "    <tr>\n",
       "      <th>0</th>\n",
       "      <td>100067</td>\n",
       "      <td>2020-01-08</td>\n",
       "      <td>AAPL</td>\n",
       "      <td>confusion</td>\n",
       "      <td>bearish</td>\n",
       "      <td>$AAPL with all time highs again the market see...</td>\n",
       "      <td>Apple with all time highs again the market see...</td>\n",
       "    </tr>\n",
       "    <tr>\n",
       "      <th>1</th>\n",
       "      <td>100115</td>\n",
       "      <td>2020-01-10</td>\n",
       "      <td>BA</td>\n",
       "      <td>anxiety</td>\n",
       "      <td>bullish</td>\n",
       "      <td>$BA about to explode 🚨\\nKeep shorting please</td>\n",
       "      <td>Boeing about to explode  [police car light] \\n...</td>\n",
       "    </tr>\n",
       "    <tr>\n",
       "      <th>2</th>\n",
       "      <td>100175</td>\n",
       "      <td>2020-01-15</td>\n",
       "      <td>SBUX</td>\n",
       "      <td>confusion</td>\n",
       "      <td>bearish</td>\n",
       "      <td>$SBUX TPO alot of volume at 91.74, thats after...</td>\n",
       "      <td>Starbucks TPO alot of volume at 91.74, thats a...</td>\n",
       "    </tr>\n",
       "    <tr>\n",
       "      <th>3</th>\n",
       "      <td>100234</td>\n",
       "      <td>2020-01-18</td>\n",
       "      <td>TSLA</td>\n",
       "      <td>confusion</td>\n",
       "      <td>bearish</td>\n",
       "      <td>$TSLA down 6$ afterhours right now 🤔</td>\n",
       "      <td>Tesla down 6$ afterhours right now  [thinking ...</td>\n",
       "    </tr>\n",
       "    <tr>\n",
       "      <th>4</th>\n",
       "      <td>100268</td>\n",
       "      <td>2020-01-22</td>\n",
       "      <td>BA</td>\n",
       "      <td>confusion</td>\n",
       "      <td>bearish</td>\n",
       "      <td>$BA can someone tell me why they haven’t downg...</td>\n",
       "      <td>Boeing can someone tell me why they haven’t do...</td>\n",
       "    </tr>\n",
       "    <tr>\n",
       "      <th>...</th>\n",
       "      <td>...</td>\n",
       "      <td>...</td>\n",
       "      <td>...</td>\n",
       "      <td>...</td>\n",
       "      <td>...</td>\n",
       "      <td>...</td>\n",
       "      <td>...</td>\n",
       "    </tr>\n",
       "    <tr>\n",
       "      <th>995</th>\n",
       "      <td>109996</td>\n",
       "      <td>2020-12-31</td>\n",
       "      <td>ABNB</td>\n",
       "      <td>optimism</td>\n",
       "      <td>bearish</td>\n",
       "      <td>$ABNB “sugar daddy puts.” Don’t mind me, I’m j...</td>\n",
       "      <td>Airbnb “sugar daddy puts.” Don’t mind me, I’m ...</td>\n",
       "    </tr>\n",
       "    <tr>\n",
       "      <th>996</th>\n",
       "      <td>109997</td>\n",
       "      <td>2020-12-31</td>\n",
       "      <td>TSLA</td>\n",
       "      <td>disgust</td>\n",
       "      <td>bullish</td>\n",
       "      <td>$TSLA \\nGood news... now bears can get help wh...</td>\n",
       "      <td>Tesla \\nGood news... now bears can get help wh...</td>\n",
       "    </tr>\n",
       "    <tr>\n",
       "      <th>997</th>\n",
       "      <td>109998</td>\n",
       "      <td>2020-12-31</td>\n",
       "      <td>BABA</td>\n",
       "      <td>confusion</td>\n",
       "      <td>bullish</td>\n",
       "      <td>$BABA Who else is glad they sold in 240s yeste...</td>\n",
       "      <td>Alibaba Who else is glad they sold in 240s yes...</td>\n",
       "    </tr>\n",
       "    <tr>\n",
       "      <th>998</th>\n",
       "      <td>109999</td>\n",
       "      <td>2020-12-31</td>\n",
       "      <td>CCL</td>\n",
       "      <td>amusement</td>\n",
       "      <td>bullish</td>\n",
       "      <td>$CCL $23 calls for .79 you know what to do 🥳</td>\n",
       "      <td>Carnival $23 calls for .79 you know what to do...</td>\n",
       "    </tr>\n",
       "    <tr>\n",
       "      <th>999</th>\n",
       "      <td>110000</td>\n",
       "      <td>2020-12-31</td>\n",
       "      <td>TSLA</td>\n",
       "      <td>excitement</td>\n",
       "      <td>bullish</td>\n",
       "      <td>$TSLA  🔥 closed out 15k in profit!Happy New Ye...</td>\n",
       "      <td>Tesla   [fire]  closed out 15k in profit!Happy...</td>\n",
       "    </tr>\n",
       "  </tbody>\n",
       "</table>\n",
       "<p>1000 rows × 7 columns</p>\n",
       "</div>"
      ],
      "text/plain": [
       "         id        date ticker   emo_label senti_label  \\\n",
       "0    100067  2020-01-08   AAPL   confusion     bearish   \n",
       "1    100115  2020-01-10     BA     anxiety     bullish   \n",
       "2    100175  2020-01-15   SBUX   confusion     bearish   \n",
       "3    100234  2020-01-18   TSLA   confusion     bearish   \n",
       "4    100268  2020-01-22     BA   confusion     bearish   \n",
       "..      ...         ...    ...         ...         ...   \n",
       "995  109996  2020-12-31   ABNB    optimism     bearish   \n",
       "996  109997  2020-12-31   TSLA     disgust     bullish   \n",
       "997  109998  2020-12-31   BABA   confusion     bullish   \n",
       "998  109999  2020-12-31    CCL   amusement     bullish   \n",
       "999  110000  2020-12-31   TSLA  excitement     bullish   \n",
       "\n",
       "                                              original  \\\n",
       "0    $AAPL with all time highs again the market see...   \n",
       "1         $BA about to explode 🚨\\nKeep shorting please   \n",
       "2    $SBUX TPO alot of volume at 91.74, thats after...   \n",
       "3                 $TSLA down 6$ afterhours right now 🤔   \n",
       "4    $BA can someone tell me why they haven’t downg...   \n",
       "..                                                 ...   \n",
       "995  $ABNB “sugar daddy puts.” Don’t mind me, I’m j...   \n",
       "996  $TSLA \\nGood news... now bears can get help wh...   \n",
       "997  $BABA Who else is glad they sold in 240s yeste...   \n",
       "998       $CCL $23 calls for .79 you know what to do 🥳   \n",
       "999  $TSLA  🔥 closed out 15k in profit!Happy New Ye...   \n",
       "\n",
       "                                             processed  \n",
       "0    Apple with all time highs again the market see...  \n",
       "1    Boeing about to explode  [police car light] \\n...  \n",
       "2    Starbucks TPO alot of volume at 91.74, thats a...  \n",
       "3    Tesla down 6$ afterhours right now  [thinking ...  \n",
       "4    Boeing can someone tell me why they haven’t do...  \n",
       "..                                                 ...  \n",
       "995  Airbnb “sugar daddy puts.” Don’t mind me, I’m ...  \n",
       "996  Tesla \\nGood news... now bears can get help wh...  \n",
       "997  Alibaba Who else is glad they sold in 240s yes...  \n",
       "998  Carnival $23 calls for .79 you know what to do...  \n",
       "999  Tesla   [fire]  closed out 15k in profit!Happy...  \n",
       "\n",
       "[1000 rows x 7 columns]"
      ]
     },
     "execution_count": 5,
     "metadata": {},
     "output_type": "execute_result"
    }
   ],
   "source": [
    "df_train = pd.read_csv('/home/minwook0008/please/OR2/dataset/train_stockemo.csv') \n",
    "df_val = pd.read_csv('/home/minwook0008/please/OR2/dataset/val_stockemo.csv')\n",
    "df_test = pd.read_csv('/home/minwook0008/please/OR2/dataset/test_stockemo.csv')\n",
    "df_test"
   ]
  },
  {
   "cell_type": "code",
   "execution_count": 6,
   "metadata": {
    "ExecuteTime": {
     "end_time": "2022-06-02T02:54:06.895445Z",
     "start_time": "2022-06-02T02:54:06.880863Z"
    }
   },
   "outputs": [],
   "source": [
    "df_train = df_train.dropna(subset=['senti_label', 'processed'])\n",
    "df_val = df_val.dropna(subset=['senti_label', 'processed'])\n",
    "df_test = df_test.dropna(subset=['senti_label', 'processed'])"
   ]
  },
  {
   "cell_type": "code",
   "execution_count": 7,
   "metadata": {},
   "outputs": [
    {
     "data": {
      "text/html": [
       "<div>\n",
       "<style scoped>\n",
       "    .dataframe tbody tr th:only-of-type {\n",
       "        vertical-align: middle;\n",
       "    }\n",
       "\n",
       "    .dataframe tbody tr th {\n",
       "        vertical-align: top;\n",
       "    }\n",
       "\n",
       "    .dataframe thead th {\n",
       "        text-align: right;\n",
       "    }\n",
       "</style>\n",
       "<table border=\"1\" class=\"dataframe\">\n",
       "  <thead>\n",
       "    <tr style=\"text-align: right;\">\n",
       "      <th></th>\n",
       "      <th>id</th>\n",
       "      <th>date</th>\n",
       "      <th>ticker</th>\n",
       "      <th>emo_label</th>\n",
       "      <th>senti_label</th>\n",
       "      <th>original</th>\n",
       "      <th>processed</th>\n",
       "    </tr>\n",
       "  </thead>\n",
       "  <tbody>\n",
       "    <tr>\n",
       "      <th>0</th>\n",
       "      <td>100001</td>\n",
       "      <td>2020-01-01</td>\n",
       "      <td>AMZN</td>\n",
       "      <td>excitement</td>\n",
       "      <td>bullish</td>\n",
       "      <td>$AMZN Dow futures up by 100 points already 🥳</td>\n",
       "      <td>Amazon Dow futures up by 100 points already  [...</td>\n",
       "    </tr>\n",
       "    <tr>\n",
       "      <th>1</th>\n",
       "      <td>100002</td>\n",
       "      <td>2020-01-01</td>\n",
       "      <td>TSLA</td>\n",
       "      <td>excitement</td>\n",
       "      <td>bullish</td>\n",
       "      <td>$TSLA Daddy's drinkin' eArly tonight! Here's t...</td>\n",
       "      <td>Tesla Daddy's drinkin' eArly tonight! Here's t...</td>\n",
       "    </tr>\n",
       "    <tr>\n",
       "      <th>2</th>\n",
       "      <td>100003</td>\n",
       "      <td>2020-01-01</td>\n",
       "      <td>AAPL</td>\n",
       "      <td>confusion</td>\n",
       "      <td>bullish</td>\n",
       "      <td>$AAPL We’ll been riding since last December fr...</td>\n",
       "      <td>Apple We’ll been riding since last December fr...</td>\n",
       "    </tr>\n",
       "    <tr>\n",
       "      <th>3</th>\n",
       "      <td>100004</td>\n",
       "      <td>2020-01-01</td>\n",
       "      <td>TSLA</td>\n",
       "      <td>excitement</td>\n",
       "      <td>bullish</td>\n",
       "      <td>$TSLA happy new year, 2020, everyone🍷🎉🙏</td>\n",
       "      <td>Tesla happy new year, 2020, everyone [wine gla...</td>\n",
       "    </tr>\n",
       "    <tr>\n",
       "      <th>4</th>\n",
       "      <td>100005</td>\n",
       "      <td>2020-01-01</td>\n",
       "      <td>TSLA</td>\n",
       "      <td>excitement</td>\n",
       "      <td>bullish</td>\n",
       "      <td>$TSLA haha just a collection of greats...\"Mars...</td>\n",
       "      <td>Tesla haha just a collection of greats...\"Mars...</td>\n",
       "    </tr>\n",
       "    <tr>\n",
       "      <th>...</th>\n",
       "      <td>...</td>\n",
       "      <td>...</td>\n",
       "      <td>...</td>\n",
       "      <td>...</td>\n",
       "      <td>...</td>\n",
       "      <td>...</td>\n",
       "      <td>...</td>\n",
       "    </tr>\n",
       "    <tr>\n",
       "      <th>7995</th>\n",
       "      <td>109536</td>\n",
       "      <td>2020-08-06</td>\n",
       "      <td>AAPL</td>\n",
       "      <td>surprise</td>\n",
       "      <td>bullish</td>\n",
       "      <td>BREAKING NEWS: $AAPL beats Elon Musk and Richa...</td>\n",
       "      <td>BREAKING NEWS: Apple beats Elon Musk and Richa...</td>\n",
       "    </tr>\n",
       "    <tr>\n",
       "      <th>7996</th>\n",
       "      <td>109541</td>\n",
       "      <td>2020-08-10</td>\n",
       "      <td>AAPL</td>\n",
       "      <td>belief</td>\n",
       "      <td>bullish</td>\n",
       "      <td>$AAPL why be a 2T giant and not dabble a littl...</td>\n",
       "      <td>Apple why be a 2T giant and not dabble a littl...</td>\n",
       "    </tr>\n",
       "    <tr>\n",
       "      <th>7997</th>\n",
       "      <td>109561</td>\n",
       "      <td>2020-08-18</td>\n",
       "      <td>AMZN</td>\n",
       "      <td>ambiguous</td>\n",
       "      <td>bullish</td>\n",
       "      <td>$AMZN - 3,500 jobs = $3,500 ??? 😁</td>\n",
       "      <td>Amazon - 3,500 jobs = $3,500 ???  [beaming fac...</td>\n",
       "    </tr>\n",
       "    <tr>\n",
       "      <th>7998</th>\n",
       "      <td>109795</td>\n",
       "      <td>2020-10-01</td>\n",
       "      <td>TSLA</td>\n",
       "      <td>surprise</td>\n",
       "      <td>bullish</td>\n",
       "      <td>$TSLA $500c 10/2 at 36k volume 👀👀</td>\n",
       "      <td>Tesla $500c 10/2 at 36k volume  [eyes]</td>\n",
       "    </tr>\n",
       "    <tr>\n",
       "      <th>7999</th>\n",
       "      <td>109840</td>\n",
       "      <td>2020-10-21</td>\n",
       "      <td>TSLA</td>\n",
       "      <td>surprise</td>\n",
       "      <td>bullish</td>\n",
       "      <td>$TSLA beat was more significant than I was exp...</td>\n",
       "      <td>Tesla beat was more significant than I was exp...</td>\n",
       "    </tr>\n",
       "  </tbody>\n",
       "</table>\n",
       "<p>8000 rows × 7 columns</p>\n",
       "</div>"
      ],
      "text/plain": [
       "          id        date ticker   emo_label senti_label  \\\n",
       "0     100001  2020-01-01   AMZN  excitement     bullish   \n",
       "1     100002  2020-01-01   TSLA  excitement     bullish   \n",
       "2     100003  2020-01-01   AAPL   confusion     bullish   \n",
       "3     100004  2020-01-01   TSLA  excitement     bullish   \n",
       "4     100005  2020-01-01   TSLA  excitement     bullish   \n",
       "...      ...         ...    ...         ...         ...   \n",
       "7995  109536  2020-08-06   AAPL    surprise     bullish   \n",
       "7996  109541  2020-08-10   AAPL      belief     bullish   \n",
       "7997  109561  2020-08-18   AMZN   ambiguous     bullish   \n",
       "7998  109795  2020-10-01   TSLA    surprise     bullish   \n",
       "7999  109840  2020-10-21   TSLA    surprise     bullish   \n",
       "\n",
       "                                               original  \\\n",
       "0          $AMZN Dow futures up by 100 points already 🥳   \n",
       "1     $TSLA Daddy's drinkin' eArly tonight! Here's t...   \n",
       "2     $AAPL We’ll been riding since last December fr...   \n",
       "3               $TSLA happy new year, 2020, everyone🍷🎉🙏   \n",
       "4     $TSLA haha just a collection of greats...\"Mars...   \n",
       "...                                                 ...   \n",
       "7995  BREAKING NEWS: $AAPL beats Elon Musk and Richa...   \n",
       "7996  $AAPL why be a 2T giant and not dabble a littl...   \n",
       "7997                  $AMZN - 3,500 jobs = $3,500 ??? 😁   \n",
       "7998                  $TSLA $500c 10/2 at 36k volume 👀👀   \n",
       "7999  $TSLA beat was more significant than I was exp...   \n",
       "\n",
       "                                              processed  \n",
       "0     Amazon Dow futures up by 100 points already  [...  \n",
       "1     Tesla Daddy's drinkin' eArly tonight! Here's t...  \n",
       "2     Apple We’ll been riding since last December fr...  \n",
       "3     Tesla happy new year, 2020, everyone [wine gla...  \n",
       "4     Tesla haha just a collection of greats...\"Mars...  \n",
       "...                                                 ...  \n",
       "7995  BREAKING NEWS: Apple beats Elon Musk and Richa...  \n",
       "7996  Apple why be a 2T giant and not dabble a littl...  \n",
       "7997  Amazon - 3,500 jobs = $3,500 ???  [beaming fac...  \n",
       "7998             Tesla $500c 10/2 at 36k volume  [eyes]  \n",
       "7999  Tesla beat was more significant than I was exp...  \n",
       "\n",
       "[8000 rows x 7 columns]"
      ]
     },
     "execution_count": 7,
     "metadata": {},
     "output_type": "execute_result"
    }
   ],
   "source": [
    "df_train"
   ]
  },
  {
   "cell_type": "code",
   "execution_count": 8,
   "metadata": {},
   "outputs": [
    {
     "data": {
      "text/html": [
       "<div>\n",
       "<style scoped>\n",
       "    .dataframe tbody tr th:only-of-type {\n",
       "        vertical-align: middle;\n",
       "    }\n",
       "\n",
       "    .dataframe tbody tr th {\n",
       "        vertical-align: top;\n",
       "    }\n",
       "\n",
       "    .dataframe thead th {\n",
       "        text-align: right;\n",
       "    }\n",
       "</style>\n",
       "<table border=\"1\" class=\"dataframe\">\n",
       "  <thead>\n",
       "    <tr style=\"text-align: right;\">\n",
       "      <th></th>\n",
       "      <th>senti_label</th>\n",
       "      <th>processed</th>\n",
       "    </tr>\n",
       "  </thead>\n",
       "  <tbody>\n",
       "    <tr>\n",
       "      <th>0</th>\n",
       "      <td>bearish</td>\n",
       "      <td>Apple with all time highs again the market see...</td>\n",
       "    </tr>\n",
       "    <tr>\n",
       "      <th>1</th>\n",
       "      <td>bullish</td>\n",
       "      <td>Boeing about to explode  [police car light] \\n...</td>\n",
       "    </tr>\n",
       "    <tr>\n",
       "      <th>2</th>\n",
       "      <td>bearish</td>\n",
       "      <td>Starbucks TPO alot of volume at 91.74, thats a...</td>\n",
       "    </tr>\n",
       "    <tr>\n",
       "      <th>3</th>\n",
       "      <td>bearish</td>\n",
       "      <td>Tesla down 6$ afterhours right now  [thinking ...</td>\n",
       "    </tr>\n",
       "    <tr>\n",
       "      <th>4</th>\n",
       "      <td>bearish</td>\n",
       "      <td>Boeing can someone tell me why they haven’t do...</td>\n",
       "    </tr>\n",
       "  </tbody>\n",
       "</table>\n",
       "</div>"
      ],
      "text/plain": [
       "  senti_label                                          processed\n",
       "0     bearish  Apple with all time highs again the market see...\n",
       "1     bullish  Boeing about to explode  [police car light] \\n...\n",
       "2     bearish  Starbucks TPO alot of volume at 91.74, thats a...\n",
       "3     bearish  Tesla down 6$ afterhours right now  [thinking ...\n",
       "4     bearish  Boeing can someone tell me why they haven’t do..."
      ]
     },
     "execution_count": 8,
     "metadata": {},
     "output_type": "execute_result"
    }
   ],
   "source": [
    "selected_columns = ['senti_label', 'processed']\n",
    "df_train_pre = df_train[selected_columns]\n",
    "df_val_pre = df_val[selected_columns]\n",
    "df_test_pre = df_test[selected_columns]\n",
    "df_test_pre.head()"
   ]
  },
  {
   "cell_type": "code",
   "execution_count": 9,
   "metadata": {},
   "outputs": [
    {
     "name": "stderr",
     "output_type": "stream",
     "text": [
      "/tmp/ipykernel_3255237/2219857626.py:1: SettingWithCopyWarning: \n",
      "A value is trying to be set on a copy of a slice from a DataFrame.\n",
      "Try using .loc[row_indexer,col_indexer] = value instead\n",
      "\n",
      "See the caveats in the documentation: https://pandas.pydata.org/pandas-docs/stable/user_guide/indexing.html#returning-a-view-versus-a-copy\n",
      "  df_train_pre['senti_label'] = (df_train_pre['senti_label'] == 'bullish').astype(int) * 2\n",
      "/tmp/ipykernel_3255237/2219857626.py:2: SettingWithCopyWarning: \n",
      "A value is trying to be set on a copy of a slice from a DataFrame.\n",
      "Try using .loc[row_indexer,col_indexer] = value instead\n",
      "\n",
      "See the caveats in the documentation: https://pandas.pydata.org/pandas-docs/stable/user_guide/indexing.html#returning-a-view-versus-a-copy\n",
      "  df_val_pre['senti_label'] = (df_val_pre['senti_label'] == 'bullish').astype(int) * 2\n",
      "/tmp/ipykernel_3255237/2219857626.py:3: SettingWithCopyWarning: \n",
      "A value is trying to be set on a copy of a slice from a DataFrame.\n",
      "Try using .loc[row_indexer,col_indexer] = value instead\n",
      "\n",
      "See the caveats in the documentation: https://pandas.pydata.org/pandas-docs/stable/user_guide/indexing.html#returning-a-view-versus-a-copy\n",
      "  df_test_pre['senti_label'] = (df_test_pre['senti_label'] == 'bullish').astype(int) * 2\n"
     ]
    }
   ],
   "source": [
    "df_train_pre['senti_label'] = df_train_pre['senti_label'].apply(lambda x: 2 if x == 'bullish' else (1 if x == 'neutral' else 0))\n",
    "df_val_pre['senti_label'] = df_train_pre['senti_label'].apply(lambda x: 2 if x == 'bullish' else (1 if x == 'neutral' else 0))\n",
    "df_test_pre['senti_label'] = df_train_pre['senti_label'].apply(lambda x: 2 if x == 'bullish' else (1 if x == 'neutral' else 0))"
   ]
  },
  {
   "cell_type": "code",
   "execution_count": 10,
   "metadata": {},
   "outputs": [
    {
     "data": {
      "text/html": [
       "<div>\n",
       "<style scoped>\n",
       "    .dataframe tbody tr th:only-of-type {\n",
       "        vertical-align: middle;\n",
       "    }\n",
       "\n",
       "    .dataframe tbody tr th {\n",
       "        vertical-align: top;\n",
       "    }\n",
       "\n",
       "    .dataframe thead th {\n",
       "        text-align: right;\n",
       "    }\n",
       "</style>\n",
       "<table border=\"1\" class=\"dataframe\">\n",
       "  <thead>\n",
       "    <tr style=\"text-align: right;\">\n",
       "      <th></th>\n",
       "      <th>senti_label</th>\n",
       "      <th>processed</th>\n",
       "    </tr>\n",
       "  </thead>\n",
       "  <tbody>\n",
       "    <tr>\n",
       "      <th>0</th>\n",
       "      <td>0</td>\n",
       "      <td>Apple with all time highs again the market see...</td>\n",
       "    </tr>\n",
       "    <tr>\n",
       "      <th>1</th>\n",
       "      <td>2</td>\n",
       "      <td>Boeing about to explode  [police car light] \\n...</td>\n",
       "    </tr>\n",
       "    <tr>\n",
       "      <th>2</th>\n",
       "      <td>0</td>\n",
       "      <td>Starbucks TPO alot of volume at 91.74, thats a...</td>\n",
       "    </tr>\n",
       "    <tr>\n",
       "      <th>3</th>\n",
       "      <td>0</td>\n",
       "      <td>Tesla down 6$ afterhours right now  [thinking ...</td>\n",
       "    </tr>\n",
       "    <tr>\n",
       "      <th>4</th>\n",
       "      <td>0</td>\n",
       "      <td>Boeing can someone tell me why they haven’t do...</td>\n",
       "    </tr>\n",
       "  </tbody>\n",
       "</table>\n",
       "</div>"
      ],
      "text/plain": [
       "   senti_label                                          processed\n",
       "0            0  Apple with all time highs again the market see...\n",
       "1            2  Boeing about to explode  [police car light] \\n...\n",
       "2            0  Starbucks TPO alot of volume at 91.74, thats a...\n",
       "3            0  Tesla down 6$ afterhours right now  [thinking ...\n",
       "4            0  Boeing can someone tell me why they haven’t do..."
      ]
     },
     "execution_count": 10,
     "metadata": {},
     "output_type": "execute_result"
    }
   ],
   "source": [
    "df_test_pre.head()"
   ]
  },
  {
   "cell_type": "markdown",
   "metadata": {},
   "source": [
    "### load FinBERT pretrained model\n",
    "The pretrained FinBERT model path on Huggingface is https://huggingface.co/yiyanghkust/finbert-pretrain"
   ]
  },
  {
   "cell_type": "code",
   "execution_count": 11,
   "metadata": {
    "ExecuteTime": {
     "end_time": "2022-06-02T02:54:17.945203Z",
     "start_time": "2022-06-02T02:54:10.422200Z"
    }
   },
   "outputs": [
    {
     "name": "stderr",
     "output_type": "stream",
     "text": [
      "/home/minwook0008/bin/anaconda3/envs/MLAp/lib/python3.9/site-packages/torch/_utils.py:776: UserWarning: TypedStorage is deprecated. It will be removed in the future and UntypedStorage will be the only storage class. This should only matter to you if you are using storages directly.  To access UntypedStorage directly, use tensor.untyped_storage() instead of tensor.storage()\n",
      "  return self.fget.__get__(instance, owner)()\n",
      "Some weights of BertForSequenceClassification were not initialized from the model checkpoint at yiyanghkust/finbert-pretrain and are newly initialized: ['classifier.bias', 'classifier.weight']\n",
      "You should probably TRAIN this model on a down-stream task to be able to use it for predictions and inference.\n"
     ]
    }
   ],
   "source": [
    "model = BertForSequenceClassification.from_pretrained('yiyanghkust/finbert-pretrain',num_labels=3).to(device)\n",
    "tokenizer = BertTokenizer.from_pretrained('yiyanghkust/finbert-pretrain')"
   ]
  },
  {
   "cell_type": "code",
   "execution_count": 12,
   "metadata": {},
   "outputs": [
    {
     "data": {
      "text/plain": [
       "BertForSequenceClassification(\n",
       "  (bert): BertModel(\n",
       "    (embeddings): BertEmbeddings(\n",
       "      (word_embeddings): Embedding(30873, 768, padding_idx=0)\n",
       "      (position_embeddings): Embedding(512, 768)\n",
       "      (token_type_embeddings): Embedding(2, 768)\n",
       "      (LayerNorm): LayerNorm((768,), eps=1e-12, elementwise_affine=True)\n",
       "      (dropout): Dropout(p=0.1, inplace=False)\n",
       "    )\n",
       "    (encoder): BertEncoder(\n",
       "      (layer): ModuleList(\n",
       "        (0-11): 12 x BertLayer(\n",
       "          (attention): BertAttention(\n",
       "            (self): BertSelfAttention(\n",
       "              (query): Linear(in_features=768, out_features=768, bias=True)\n",
       "              (key): Linear(in_features=768, out_features=768, bias=True)\n",
       "              (value): Linear(in_features=768, out_features=768, bias=True)\n",
       "              (dropout): Dropout(p=0.1, inplace=False)\n",
       "            )\n",
       "            (output): BertSelfOutput(\n",
       "              (dense): Linear(in_features=768, out_features=768, bias=True)\n",
       "              (LayerNorm): LayerNorm((768,), eps=1e-12, elementwise_affine=True)\n",
       "              (dropout): Dropout(p=0.1, inplace=False)\n",
       "            )\n",
       "          )\n",
       "          (intermediate): BertIntermediate(\n",
       "            (dense): Linear(in_features=768, out_features=3072, bias=True)\n",
       "            (intermediate_act_fn): GELUActivation()\n",
       "          )\n",
       "          (output): BertOutput(\n",
       "            (dense): Linear(in_features=3072, out_features=768, bias=True)\n",
       "            (LayerNorm): LayerNorm((768,), eps=1e-12, elementwise_affine=True)\n",
       "            (dropout): Dropout(p=0.1, inplace=False)\n",
       "          )\n",
       "        )\n",
       "      )\n",
       "    )\n",
       "    (pooler): BertPooler(\n",
       "      (dense): Linear(in_features=768, out_features=768, bias=True)\n",
       "      (activation): Tanh()\n",
       "    )\n",
       "  )\n",
       "  (dropout): Dropout(p=0.1, inplace=False)\n",
       "  (classifier): Linear(in_features=768, out_features=3, bias=True)\n",
       ")"
      ]
     },
     "execution_count": 12,
     "metadata": {},
     "output_type": "execute_result"
    }
   ],
   "source": [
    "model"
   ]
  },
  {
   "cell_type": "code",
   "execution_count": 21,
   "metadata": {},
   "outputs": [
    {
     "name": "stderr",
     "output_type": "stream",
     "text": [
      "/tmp/ipykernel_3255237/139600951.py:1: SettingWithCopyWarning: \n",
      "A value is trying to be set on a copy of a slice from a DataFrame\n",
      "\n",
      "See the caveats in the documentation: https://pandas.pydata.org/pandas-docs/stable/user_guide/indexing.html#returning-a-view-versus-a-copy\n",
      "  df_train_pre.rename(columns={'senti_label': 'label'}, inplace=True)\n",
      "/tmp/ipykernel_3255237/139600951.py:2: SettingWithCopyWarning: \n",
      "A value is trying to be set on a copy of a slice from a DataFrame\n",
      "\n",
      "See the caveats in the documentation: https://pandas.pydata.org/pandas-docs/stable/user_guide/indexing.html#returning-a-view-versus-a-copy\n",
      "  df_val_pre.rename(columns={'senti_label': 'label'}, inplace=True)\n",
      "/tmp/ipykernel_3255237/139600951.py:3: SettingWithCopyWarning: \n",
      "A value is trying to be set on a copy of a slice from a DataFrame\n",
      "\n",
      "See the caveats in the documentation: https://pandas.pydata.org/pandas-docs/stable/user_guide/indexing.html#returning-a-view-versus-a-copy\n",
      "  df_test_pre.rename(columns={'senti_label': 'label'}, inplace=True)\n"
     ]
    },
    {
     "data": {
      "text/html": [
       "<div>\n",
       "<style scoped>\n",
       "    .dataframe tbody tr th:only-of-type {\n",
       "        vertical-align: middle;\n",
       "    }\n",
       "\n",
       "    .dataframe tbody tr th {\n",
       "        vertical-align: top;\n",
       "    }\n",
       "\n",
       "    .dataframe thead th {\n",
       "        text-align: right;\n",
       "    }\n",
       "</style>\n",
       "<table border=\"1\" class=\"dataframe\">\n",
       "  <thead>\n",
       "    <tr style=\"text-align: right;\">\n",
       "      <th></th>\n",
       "      <th>label</th>\n",
       "      <th>processed</th>\n",
       "    </tr>\n",
       "  </thead>\n",
       "  <tbody>\n",
       "    <tr>\n",
       "      <th>0</th>\n",
       "      <td>2</td>\n",
       "      <td>Amazon Dow futures up by 100 points already  [...</td>\n",
       "    </tr>\n",
       "    <tr>\n",
       "      <th>1</th>\n",
       "      <td>2</td>\n",
       "      <td>Tesla Daddy's drinkin' eArly tonight! Here's t...</td>\n",
       "    </tr>\n",
       "    <tr>\n",
       "      <th>2</th>\n",
       "      <td>2</td>\n",
       "      <td>Apple We’ll been riding since last December fr...</td>\n",
       "    </tr>\n",
       "    <tr>\n",
       "      <th>3</th>\n",
       "      <td>2</td>\n",
       "      <td>Tesla happy new year, 2020, everyone [wine gla...</td>\n",
       "    </tr>\n",
       "    <tr>\n",
       "      <th>4</th>\n",
       "      <td>2</td>\n",
       "      <td>Tesla haha just a collection of greats...\"Mars...</td>\n",
       "    </tr>\n",
       "    <tr>\n",
       "      <th>...</th>\n",
       "      <td>...</td>\n",
       "      <td>...</td>\n",
       "    </tr>\n",
       "    <tr>\n",
       "      <th>7995</th>\n",
       "      <td>2</td>\n",
       "      <td>BREAKING NEWS: Apple beats Elon Musk and Richa...</td>\n",
       "    </tr>\n",
       "    <tr>\n",
       "      <th>7996</th>\n",
       "      <td>2</td>\n",
       "      <td>Apple why be a 2T giant and not dabble a littl...</td>\n",
       "    </tr>\n",
       "    <tr>\n",
       "      <th>7997</th>\n",
       "      <td>2</td>\n",
       "      <td>Amazon - 3,500 jobs = $3,500 ???  [beaming fac...</td>\n",
       "    </tr>\n",
       "    <tr>\n",
       "      <th>7998</th>\n",
       "      <td>2</td>\n",
       "      <td>Tesla $500c 10/2 at 36k volume  [eyes]</td>\n",
       "    </tr>\n",
       "    <tr>\n",
       "      <th>7999</th>\n",
       "      <td>2</td>\n",
       "      <td>Tesla beat was more significant than I was exp...</td>\n",
       "    </tr>\n",
       "  </tbody>\n",
       "</table>\n",
       "<p>8000 rows × 2 columns</p>\n",
       "</div>"
      ],
      "text/plain": [
       "      label                                          processed\n",
       "0         2  Amazon Dow futures up by 100 points already  [...\n",
       "1         2  Tesla Daddy's drinkin' eArly tonight! Here's t...\n",
       "2         2  Apple We’ll been riding since last December fr...\n",
       "3         2  Tesla happy new year, 2020, everyone [wine gla...\n",
       "4         2  Tesla haha just a collection of greats...\"Mars...\n",
       "...     ...                                                ...\n",
       "7995      2  BREAKING NEWS: Apple beats Elon Musk and Richa...\n",
       "7996      2  Apple why be a 2T giant and not dabble a littl...\n",
       "7997      2  Amazon - 3,500 jobs = $3,500 ???  [beaming fac...\n",
       "7998      2             Tesla $500c 10/2 at 36k volume  [eyes]\n",
       "7999      2  Tesla beat was more significant than I was exp...\n",
       "\n",
       "[8000 rows x 2 columns]"
      ]
     },
     "execution_count": 21,
     "metadata": {},
     "output_type": "execute_result"
    }
   ],
   "source": [
    "df_train_pre.rename(columns={'senti_label': 'label'}, inplace=True)\n",
    "df_val_pre.rename(columns={'senti_label': 'label'}, inplace=True)\n",
    "df_test_pre.rename(columns={'senti_label': 'label'}, inplace=True)\n",
    "df_train_pre"
   ]
  },
  {
   "cell_type": "markdown",
   "metadata": {
    "ExecuteTime": {
     "end_time": "2022-06-02T02:37:33.687054Z",
     "start_time": "2022-06-02T02:37:33.664650Z"
    }
   },
   "source": [
    "### prepare dataset for fine-tuning"
   ]
  },
  {
   "cell_type": "code",
   "execution_count": 22,
   "metadata": {
    "ExecuteTime": {
     "end_time": "2022-06-02T02:54:33.660010Z",
     "start_time": "2022-06-02T02:54:17.948143Z"
    }
   },
   "outputs": [
    {
     "name": "stderr",
     "output_type": "stream",
     "text": [
      "Map: 100%|█████████████████████████████████████████████████████████| 8000/8000 [00:03<00:00, 2663.73 examples/s]\n",
      "Map: 100%|█████████████████████████████████████████████████████████| 1000/1000 [00:00<00:00, 3022.45 examples/s]\n",
      "Map: 100%|█████████████████████████████████████████████████████████| 1000/1000 [00:00<00:00, 2956.36 examples/s]\n"
     ]
    }
   ],
   "source": [
    "dataset_train = Dataset.from_pandas(df_train_pre)\n",
    "dataset_val = Dataset.from_pandas(df_val_pre)\n",
    "dataset_test = Dataset.from_pandas(df_test_pre)\n",
    "\n",
    "dataset_train = dataset_train.map(lambda e: tokenizer(e['processed'], truncation=True, padding='max_length', max_length=128), batched=True)\n",
    "dataset_val = dataset_val.map(lambda e: tokenizer(e['processed'], truncation=True, padding='max_length', max_length=128), batched=True)\n",
    "dataset_test = dataset_test.map(lambda e: tokenizer(e['processed'], truncation=True, padding='max_length' , max_length=128), batched=True)\n",
    "\n",
    "dataset_train.set_format(type='torch', columns=['input_ids', 'token_type_ids', 'attention_mask', 'label'])\n",
    "dataset_val.set_format(type='torch', columns=['input_ids', 'token_type_ids', 'attention_mask', 'label'])\n",
    "dataset_test.set_format(type='torch', columns=['input_ids', 'token_type_ids', 'attention_mask', 'label'])\n"
   ]
  },
  {
   "cell_type": "code",
   "execution_count": 23,
   "metadata": {},
   "outputs": [
    {
     "data": {
      "text/plain": [
       "Dataset({\n",
       "    features: ['label', 'processed', 'input_ids', 'token_type_ids', 'attention_mask'],\n",
       "    num_rows: 8000\n",
       "})"
      ]
     },
     "execution_count": 23,
     "metadata": {},
     "output_type": "execute_result"
    }
   ],
   "source": [
    "dataset_train"
   ]
  },
  {
   "cell_type": "code",
   "execution_count": 24,
   "metadata": {},
   "outputs": [
    {
     "data": {
      "text/html": [
       "\n",
       "    <div>\n",
       "      \n",
       "      <progress value='1250' max='1250' style='width:300px; height:20px; vertical-align: middle;'></progress>\n",
       "      [1250/1250 03:56, Epoch 5/5]\n",
       "    </div>\n",
       "    <table border=\"1\" class=\"dataframe\">\n",
       "  <thead>\n",
       " <tr style=\"text-align: left;\">\n",
       "      <th>Epoch</th>\n",
       "      <th>Training Loss</th>\n",
       "      <th>Validation Loss</th>\n",
       "      <th>Accuracy</th>\n",
       "    </tr>\n",
       "  </thead>\n",
       "  <tbody>\n",
       "    <tr>\n",
       "      <td>1</td>\n",
       "      <td>No log</td>\n",
       "      <td>0.533150</td>\n",
       "      <td>0.729000</td>\n",
       "    </tr>\n",
       "    <tr>\n",
       "      <td>2</td>\n",
       "      <td>0.520100</td>\n",
       "      <td>0.530443</td>\n",
       "      <td>0.725000</td>\n",
       "    </tr>\n",
       "    <tr>\n",
       "      <td>3</td>\n",
       "      <td>0.520100</td>\n",
       "      <td>0.564939</td>\n",
       "      <td>0.757000</td>\n",
       "    </tr>\n",
       "    <tr>\n",
       "      <td>4</td>\n",
       "      <td>0.281500</td>\n",
       "      <td>0.666757</td>\n",
       "      <td>0.733000</td>\n",
       "    </tr>\n",
       "    <tr>\n",
       "      <td>5</td>\n",
       "      <td>0.281500</td>\n",
       "      <td>0.768391</td>\n",
       "      <td>0.733000</td>\n",
       "    </tr>\n",
       "  </tbody>\n",
       "</table><p>"
      ],
      "text/plain": [
       "<IPython.core.display.HTML object>"
      ]
     },
     "metadata": {},
     "output_type": "display_data"
    },
    {
     "data": {
      "text/plain": [
       "TrainOutput(global_step=1250, training_loss=0.35364760437011716, metrics={'train_runtime': 236.8446, 'train_samples_per_second': 168.887, 'train_steps_per_second': 5.278, 'total_flos': 2631134177280000.0, 'train_loss': 0.35364760437011716, 'epoch': 5.0})"
      ]
     },
     "execution_count": 24,
     "metadata": {},
     "output_type": "execute_result"
    }
   ],
   "source": [
    "def compute_metrics(eval_pred):\n",
    "    predictions, labels = eval_pred\n",
    "    predictions = np.argmax(predictions, axis=1)\n",
    "    return {'accuracy' : accuracy_score(predictions, labels)}\n",
    "\n",
    "args = TrainingArguments(\n",
    "        output_dir = 'temp/',\n",
    "        evaluation_strategy = 'epoch',\n",
    "        save_strategy = 'epoch',\n",
    "        learning_rate=2e-5,\n",
    "        per_device_train_batch_size=32,\n",
    "        per_device_eval_batch_size=32,\n",
    "        num_train_epochs=5,\n",
    "        weight_decay=0.01,\n",
    "        load_best_model_at_end=True,\n",
    "        metric_for_best_model='accuracy',\n",
    ")\n",
    "\n",
    "trainer = Trainer(\n",
    "        model=model,                   \n",
    "        args=args,                 \n",
    "        train_dataset=dataset_train,       \n",
    "        eval_dataset=dataset_val,          \n",
    "        compute_metrics=compute_metrics\n",
    ")\n",
    "\n",
    "trainer.train() "
   ]
  },
  {
   "cell_type": "markdown",
   "metadata": {},
   "source": [
    "### evaluate on testing set"
   ]
  },
  {
   "cell_type": "code",
   "execution_count": 62,
   "metadata": {
    "ExecuteTime": {
     "end_time": "2022-06-02T03:09:08.434635Z",
     "start_time": "2022-06-02T03:09:06.980671Z"
    }
   },
   "outputs": [
    {
     "name": "stderr",
     "output_type": "stream",
     "text": [
      "The following columns in the test set  don't have a corresponding argument in `BertForSequenceClassification.forward` and have been ignored: sentence, __index_level_0__. If sentence, __index_level_0__ are not expected by `BertForSequenceClassification.forward`,  you can safely ignore this message.\n",
      "***** Running Prediction *****\n",
      "  Num examples = 1000\n",
      "  Batch size = 32\n"
     ]
    },
    {
     "data": {
      "text/plain": [
       "{'test_loss': 0.32989031076431274,\n",
       " 'test_accuracy': 0.881,\n",
       " 'test_runtime': 1.4364,\n",
       " 'test_samples_per_second': 696.197,\n",
       " 'test_steps_per_second': 5.57}"
      ]
     },
     "execution_count": 62,
     "metadata": {},
     "output_type": "execute_result"
    }
   ],
   "source": [
    "model.eval()\n",
    "trainer.predict(dataset_test).metrics"
   ]
  },
  {
   "cell_type": "markdown",
   "metadata": {},
   "source": [
    "### save the fine-tuned model"
   ]
  },
  {
   "cell_type": "code",
   "execution_count": 63,
   "metadata": {
    "ExecuteTime": {
     "end_time": "2022-06-02T03:09:11.599174Z",
     "start_time": "2022-06-02T03:09:10.847115Z"
    }
   },
   "outputs": [
    {
     "name": "stderr",
     "output_type": "stream",
     "text": [
      "Saving model checkpoint to finbert-sentiment/\n",
      "Configuration saved in finbert-sentiment/config.json\n",
      "Model weights saved in finbert-sentiment/pytorch_model.bin\n"
     ]
    }
   ],
   "source": [
    "trainer.save_model('finbert-sentiment/')"
   ]
  },
  {
   "cell_type": "code",
   "execution_count": null,
   "metadata": {},
   "outputs": [],
   "source": []
  }
 ],
 "metadata": {
  "kernelspec": {
   "display_name": "Python 3 (ipykernel)",
   "language": "python",
   "name": "python3"
  },
  "language_info": {
   "codemirror_mode": {
    "name": "ipython",
    "version": 3
   },
   "file_extension": ".py",
   "mimetype": "text/x-python",
   "name": "python",
   "nbconvert_exporter": "python",
   "pygments_lexer": "ipython3",
   "version": "3.9.19"
  }
 },
 "nbformat": 4,
 "nbformat_minor": 4
}
