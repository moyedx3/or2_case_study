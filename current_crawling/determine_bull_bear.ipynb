{
  "nbformat": 4,
  "nbformat_minor": 0,
  "metadata": {
    "colab": {
      "provenance": []
    },
    "kernelspec": {
      "name": "python3",
      "display_name": "Python 3"
    },
    "language_info": {
      "name": "python"
    }
  },
  "cells": [
    {
      "cell_type": "code",
      "source": [
        "pip install beautifulsoup4 requests transformers"
      ],
      "metadata": {
        "colab": {
          "base_uri": "https://localhost:8080/"
        },
        "id": "P-fx5L7jGBRH",
        "outputId": "306c657b-3d58-4e83-e666-4254603fba7f"
      },
      "execution_count": 38,
      "outputs": [
        {
          "output_type": "stream",
          "name": "stdout",
          "text": [
            "Requirement already satisfied: beautifulsoup4 in /usr/local/lib/python3.10/dist-packages (4.12.3)\n",
            "Requirement already satisfied: requests in /usr/local/lib/python3.10/dist-packages (2.31.0)\n",
            "Requirement already satisfied: transformers in /usr/local/lib/python3.10/dist-packages (4.40.1)\n",
            "Requirement already satisfied: soupsieve>1.2 in /usr/local/lib/python3.10/dist-packages (from beautifulsoup4) (2.5)\n",
            "Requirement already satisfied: charset-normalizer<4,>=2 in /usr/local/lib/python3.10/dist-packages (from requests) (3.3.2)\n",
            "Requirement already satisfied: idna<4,>=2.5 in /usr/local/lib/python3.10/dist-packages (from requests) (3.7)\n",
            "Requirement already satisfied: urllib3<3,>=1.21.1 in /usr/local/lib/python3.10/dist-packages (from requests) (2.0.7)\n",
            "Requirement already satisfied: certifi>=2017.4.17 in /usr/local/lib/python3.10/dist-packages (from requests) (2024.2.2)\n",
            "Requirement already satisfied: filelock in /usr/local/lib/python3.10/dist-packages (from transformers) (3.14.0)\n",
            "Requirement already satisfied: huggingface-hub<1.0,>=0.19.3 in /usr/local/lib/python3.10/dist-packages (from transformers) (0.20.3)\n",
            "Requirement already satisfied: numpy>=1.17 in /usr/local/lib/python3.10/dist-packages (from transformers) (1.25.2)\n",
            "Requirement already satisfied: packaging>=20.0 in /usr/local/lib/python3.10/dist-packages (from transformers) (24.0)\n",
            "Requirement already satisfied: pyyaml>=5.1 in /usr/local/lib/python3.10/dist-packages (from transformers) (6.0.1)\n",
            "Requirement already satisfied: regex!=2019.12.17 in /usr/local/lib/python3.10/dist-packages (from transformers) (2023.12.25)\n",
            "Requirement already satisfied: tokenizers<0.20,>=0.19 in /usr/local/lib/python3.10/dist-packages (from transformers) (0.19.1)\n",
            "Requirement already satisfied: safetensors>=0.4.1 in /usr/local/lib/python3.10/dist-packages (from transformers) (0.4.3)\n",
            "Requirement already satisfied: tqdm>=4.27 in /usr/local/lib/python3.10/dist-packages (from transformers) (4.66.2)\n",
            "Requirement already satisfied: fsspec>=2023.5.0 in /usr/local/lib/python3.10/dist-packages (from huggingface-hub<1.0,>=0.19.3->transformers) (2023.6.0)\n",
            "Requirement already satisfied: typing-extensions>=3.7.4.3 in /usr/local/lib/python3.10/dist-packages (from huggingface-hub<1.0,>=0.19.3->transformers) (4.11.0)\n"
          ]
        }
      ]
    },
    {
      "cell_type": "code",
      "source": [
        "import requests\n",
        "from bs4 import BeautifulSoup\n",
        "from transformers import BertTokenizer, BertForSequenceClassification\n",
        "from torch.nn.functional import softmax\n",
        "import torch\n",
        "\n",
        "# BERT 모델\n",
        "bert = 'nlptown/bert-base-multilingual-uncased-sentiment'\n",
        "tokenizer = BertTokenizer.from_pretrained(bert)\n",
        "model = BertForSequenceClassification.from_pretrained(bert)\n",
        "\n",
        "urls = [\n",
        "    'https://www.investing.com/news/stock-market-news',\n",
        "    'https://www.cnbc.com/finance/',\n",
        "    'https://finance.yahoo.com/',\n",
        "    'https://www.investing.com/news/stock-market-news'\n",
        "]\n",
        "\n",
        "def crawl_news(urls):\n",
        "    headlines = []\n",
        "    for url in urls:\n",
        "        response = requests.get(url)\n",
        "        soup = BeautifulSoup(response.text, 'html.parser')\n",
        "        news_items = soup.find_all('a')\n",
        "        for item in news_items:\n",
        "            headline_text = item.get_text(strip=True)\n",
        "            if headline_text:\n",
        "                headlines.append(headline_text)\n",
        "    return headlines\n",
        "\n",
        "def analyze_sentiment(headlines):\n",
        "    positive_count = 0\n",
        "    total_headlines = len(headlines)\n",
        "\n",
        "    for headline in headlines:\n",
        "        inputs = tokenizer(headline, return_tensors='pt', max_length=512, truncation=True)\n",
        "        outputs = model(**inputs)\n",
        "        probs = softmax(outputs.logits, dim=-1)\n",
        "        sentiment = torch.argmax(probs, dim=-1).item()\n",
        "\n",
        "        # sentiment 값이 4 또는 5이면 긍정적으로 간주 (5점 척도 중)\n",
        "        if sentiment > 3:\n",
        "            positive_count += 1\n",
        "\n",
        "    positive_percentage = (positive_count / total_headlines) * 100 if total_headlines > 0 else 0\n",
        "    return positive_percentage\n",
        "\n",
        "def classify_market(positive_percentage):\n",
        "    if positive_percentage > 70:\n",
        "        return \"Bull\"\n",
        "    elif positive_percentage < 30:\n",
        "        return \"Bear\"\n",
        "    else:\n",
        "        return \"Neutral\"\n",
        "\n",
        "# 메인 프로세스 실행\n",
        "headlines = crawl_news(urls)\n",
        "if headlines:\n",
        "    positive_percentage = analyze_sentiment(headlines)\n",
        "    market_status = classify_market(positive_percentage)\n",
        "    print(f\"Market Status: {market_status}\")\n",
        "else:\n",
        "    print(\"none\")\n"
      ],
      "metadata": {
        "colab": {
          "base_uri": "https://localhost:8080/"
        },
        "id": "kCDUlPcmDIiM",
        "outputId": "ba525d32-1f8e-4cfc-8031-e62d7a967fbb"
      },
      "execution_count": 37,
      "outputs": [
        {
          "output_type": "stream",
          "name": "stdout",
          "text": [
            "Market Status: Neutral\n"
          ]
        }
      ]
    },
    {
      "cell_type": "markdown",
      "source": [],
      "metadata": {
        "id": "uTn75BdQ7KvJ"
      }
    },
    {
      "cell_type": "code",
      "source": [
        "'''#헤드라인 태그 찾기\n",
        "import requests\n",
        "from bs4 import BeautifulSoup\n",
        "\n",
        "def fetch_and_display_h1_tags(url):\n",
        "\n",
        "    headers = {\n",
        "        'User-Agent': 'Mozilla/5.0 (Windows NT 10.0; Win64; x64) AppleWebKit/537.36 (KHTML, like Gecko) Chrome/58.0.3029.110 Safari/537.3'\n",
        "    }\n",
        "\n",
        "\n",
        "    response = requests.get(url, headers=headers)\n",
        "\n",
        "    # 응답을 BeautifulSoup 객체로 파싱\n",
        "    soup = BeautifulSoup(response.content, 'html.parser')\n",
        "\n",
        "    # 헤드라인에 해당하는 태그를 찾음\n",
        "    tags = soup.find_all('a')\n",
        "\n",
        "    #\n",
        "    for index, h1 in enumerate(tags):\n",
        "        print(f\"H1 Tag {index+1}: {h1.text.strip()}\")\n",
        "\n",
        "# 웹 페이지 URL\n",
        "url = 'https://finance.yahoo.com/'\n",
        "fetch_and_display_tags(url)\n"
      ],
      "metadata": {
        "id": "3oshq9HCYLnK"
      },
      "execution_count": null,
      "outputs": []
    }
  ]
}